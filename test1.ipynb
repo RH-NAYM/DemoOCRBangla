{
 "cells": [
  {
   "cell_type": "code",
   "execution_count": 2,
   "metadata": {},
   "outputs": [],
   "source": [
    "list1 = [{'name': 'Item', 'class': 0, 'confidence': 0.9142745733261108, 'box': {'x1': 13.425729751586914, 'y1': 191.4071502685547, 'x2': 117.12923431396484, 'y2': 419.8810119628906}}, {'name': 'Quantity', 'class': 2, 'confidence': 0.8889304995536804, 'box': {'x1': 116.08802032470703, 'y1': 191.12832641601562, 'x2': 153.89083862304688, 'y2': 415.13336181640625}}, {'name': 'Price', 'class': 1, 'confidence': 0.6202896237373352, 'box': {'x1': 154.24192810058594, 'y1': 191.13011169433594, 'x2': 195.0162811279297, 'y2': 419.93621826171875}}]"
   ]
  },
  {
   "cell_type": "code",
   "execution_count": 3,
   "metadata": {},
   "outputs": [
    {
     "name": "stdout",
     "output_type": "stream",
     "text": [
      "{'name': 'Item', 'class': 0, 'confidence': 0.9142745733261108, 'box': {'x1': 13.425729751586914, 'y1': 191.4071502685547, 'x2': 117.12923431396484, 'y2': 419.8810119628906}}\n",
      "{'name': 'Quantity', 'class': 2, 'confidence': 0.8889304995536804, 'box': {'x1': 116.08802032470703, 'y1': 191.12832641601562, 'x2': 153.89083862304688, 'y2': 415.13336181640625}}\n",
      "{'name': 'Price', 'class': 1, 'confidence': 0.6202896237373352, 'box': {'x1': 154.24192810058594, 'y1': 191.13011169433594, 'x2': 195.0162811279297, 'y2': 419.93621826171875}}\n"
     ]
    }
   ],
   "source": [
    "for item in list1:\n",
    "    print(item)"
   ]
  },
  {
   "cell_type": "code",
   "execution_count": 5,
   "metadata": {},
   "outputs": [
    {
     "name": "stdout",
     "output_type": "stream",
     "text": [
      "{'Item': {'x1': 13.425729751586914, 'y1': 191.4071502685547, 'x2': 117.12923431396484, 'y2': 419.8810119628906}}\n",
      "{'Quantity': {'x1': 116.08802032470703, 'y1': 191.12832641601562, 'x2': 153.89083862304688, 'y2': 415.13336181640625}}\n",
      "{'Price': {'x1': 154.24192810058594, 'y1': 191.13011169433594, 'x2': 195.0162811279297, 'y2': 419.93621826171875}}\n"
     ]
    }
   ],
   "source": [
    "for item in list1:\n",
    "    if \"name\" in item and \"box\" in item:\n",
    "        name = item[\"name\"]\n",
    "        coordinates = item[\"box\"]\n",
    "        data = {name:coordinates}\n",
    "        print(data)"
   ]
  },
  {
   "cell_type": "code",
   "execution_count": 13,
   "metadata": {},
   "outputs": [],
   "source": [
    "list2 = [{'Item': {'x1': 13.426336288452148, 'y1': 191.4145050048828, 'x2': 117.13192749023438, 'y2': 419.8745422363281}}, {'Quantity': {'x1': 116.08787536621094, 'y1': 191.12734985351562, 'x2': 153.8915252685547, 'y2': 415.127197265625}}, {'Price': {'x1': 154.24240112304688, 'y1': 191.13461303710938, 'x2': 195.0177001953125, 'y2': 419.9318542480469}}]"
   ]
  },
  {
   "cell_type": "code",
   "execution_count": 14,
   "metadata": {},
   "outputs": [
    {
     "name": "stdout",
     "output_type": "stream",
     "text": [
      "{'Item': {'x1': 13.426336288452148, 'y1': 191.4145050048828, 'x2': 117.13192749023438, 'y2': 419.8745422363281}}\n",
      "{'Quantity': {'x1': 116.08787536621094, 'y1': 191.12734985351562, 'x2': 153.8915252685547, 'y2': 415.127197265625}}\n",
      "{'Price': {'x1': 154.24240112304688, 'y1': 191.13461303710938, 'x2': 195.0177001953125, 'y2': 419.9318542480469}}\n"
     ]
    }
   ],
   "source": [
    "for item in list2:\n",
    "    print(item)"
   ]
  },
  {
   "cell_type": "code",
   "execution_count": 17,
   "metadata": {},
   "outputs": [],
   "source": [
    "def crop_images(coordinates_list):\n",
    "    images = []\n",
    "    for items in coordinates_list:\n",
    "        for name,location in items.items():\n",
    "            x1 = location[\"x1\"]\n",
    "            y1 = location[\"y1\"]\n",
    "            x2 = location[\"x2\"]\n",
    "            y2 = location[\"y2\"]\n",
    "    data = [x1,y1,x2,y2]\n",
    "\n",
    "    return data"
   ]
  },
  {
   "cell_type": "code",
   "execution_count": 18,
   "metadata": {},
   "outputs": [
    {
     "data": {
      "text/plain": [
       "[154.24240112304688, 191.13461303710938, 195.0177001953125, 419.9318542480469]"
      ]
     },
     "execution_count": 18,
     "metadata": {},
     "output_type": "execute_result"
    }
   ],
   "source": [
    "crop_images(list2)"
   ]
  },
  {
   "cell_type": "code",
   "execution_count": null,
   "metadata": {},
   "outputs": [],
   "source": [
    "import io\n",
    "from PIL import Image\n",
    "\n",
    "def crop_images(image_data, coordinates_list):\n",
    "    images = []\n",
    "    for item in coordinates_list:\n",
    "        for label, coords in item.items():\n",
    "            x1, y1, x2, y2 = coords\n",
    "\n",
    "            # Crop the image\n",
    "            cropped_image = Image.open(io.BytesIO(image_data)).crop((x1, y1, x2, y2))\n",
    "            images.append({label: cropped_image})\n",
    "\n",
    "    return images\n",
    "\n",
    "# Example usage:\n",
    "image_data = b''  # Replace with your actual image data\n",
    "coordinates_list = [\n",
    "    {'Item': {'x1': 13.426336288452148, 'y1': 191.4145050048828, 'x2': 117.13192749023438, 'y2': 419.8745422363281}},\n",
    "    {'Quantity': {'x1': 116.08787536621094, 'y1': 191.12734985351562, 'x2': 153.8915252685547, 'y2': 415.127197265625}},\n",
    "    {'Price': {'x1': 154.24240112304688, 'y1': 191.13461303710938, 'x2': 195.0177001953125, 'y2': 419.9318542480469}},\n",
    "]\n",
    "\n",
    "cropped_images = crop_images(image_data, coordinates_list)\n",
    "\n",
    "# Save or display the cropped images\n",
    "for i, cropped_image in enumerate(cropped_images):\n",
    "    label, image = list(cropped_image.items())[0]\n",
    "    image.show()  # Uncomment this line to display the cropped image\n",
    "    # image.save(f\"path/to/save/{label}_cropped_image_{i}.jpg\")  # Uncomment this line to save the cropped image\n"
   ]
  }
 ],
 "metadata": {
  "kernelspec": {
   "display_name": "ocr",
   "language": "python",
   "name": "python3"
  },
  "language_info": {
   "codemirror_mode": {
    "name": "ipython",
    "version": 3
   },
   "file_extension": ".py",
   "mimetype": "text/x-python",
   "name": "python",
   "nbconvert_exporter": "python",
   "pygments_lexer": "ipython3",
   "version": "3.11.7"
  }
 },
 "nbformat": 4,
 "nbformat_minor": 2
}
